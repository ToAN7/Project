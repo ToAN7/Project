{
 "cells": [
  {
   "cell_type": "code",
   "execution_count": 20,
   "metadata": {},
   "outputs": [],
   "source": [
    "import newspaper\n",
    "from newspaper import Article as Atc\n",
    "from newspaper import Source as Scr"
   ]
  },
  {
   "cell_type": "code",
   "execution_count": 21,
   "metadata": {},
   "outputs": [],
   "source": [
    "vnex_paper =  newspaper.build('https://vnexpress.net', language = 'vi', memoize_articles = False, follow_meta_refresh = True, keep_article_html=True)"
   ]
  },
  {
   "cell_type": "code",
   "execution_count": 22,
   "metadata": {},
   "outputs": [
    {
     "data": {
      "text/plain": [
       "1704"
      ]
     },
     "execution_count": 22,
     "metadata": {},
     "output_type": "execute_result"
    }
   ],
   "source": [
    "vnex_paper.size()"
   ]
  },
  {
   "cell_type": "code",
   "execution_count": 38,
   "metadata": {},
   "outputs": [],
   "source": [
    "article_test = Atc('https://vnexpress.net/tang-phuc-toi-tung-stress-vi-bi-che-hat-yeu-4769502.html', language = 'vi')"
   ]
  },
  {
   "cell_type": "code",
   "execution_count": 39,
   "metadata": {},
   "outputs": [],
   "source": [
    "article_test.download()\n",
    "article_test.parse()"
   ]
  },
  {
   "cell_type": "code",
   "execution_count": 40,
   "metadata": {},
   "outputs": [
    {
     "data": {
      "text/plain": [
       "'https://vnexpress.net/tang-phuc-toi-tung-stress-vi-bi-che-hat-yeu-4769502.html'"
      ]
     },
     "execution_count": 40,
     "metadata": {},
     "output_type": "execute_result"
    }
   ],
   "source": [
    "article_test.url"
   ]
  },
  {
   "cell_type": "code",
   "execution_count": 41,
   "metadata": {},
   "outputs": [
    {
     "data": {
      "text/plain": [
       "defaultdict(dict,\n",
       "            {'description': 'Tăng Phúc - giọng ca &quot;Chỉ là không cùng nhau&quot; - nói từng mất ngủ nhiều ngày khi bị chê giọng hát yếu, một màu. - VnExpress',\n",
       "             'keywords': 'Tăng Phúc, Anh trai vượt ngàn chông gai 2024',\n",
       "             'news_keywords': 'Tăng Phúc, Anh trai vượt ngàn chông gai 2024',\n",
       "             'viewport': 'width=device-width, initial-scale=1, minimum-scale=1, maximum-scale=5, user-scalable=1',\n",
       "             'fb': {'app_id': 1547540628876392},\n",
       "             'apple-mobile-web-app-capable': 'yes',\n",
       "             'apple-mobile-web-app-title': 'Vnexpress.net',\n",
       "             'tt_article_id': 4769502,\n",
       "             'tt_category_id': 1002726,\n",
       "             'tt_site_id': 1002691,\n",
       "             'tt_site_id_new': 1002691,\n",
       "             'tt_list_folder': '1000000,1002691,1002717,1002726',\n",
       "             'tt_list_folder_name': 'VnExpress,Giải trí,Giới sao,Trong nước',\n",
       "             'tt_page_type': 'article',\n",
       "             'tt_page_type_new': 3,\n",
       "             'og': {'site_name': 'vnexpress.net',\n",
       "              'rich_attachment': 'true',\n",
       "              'type': 'article',\n",
       "              'url': 'https://vnexpress.net/tang-phuc-toi-tung-stress-vi-bi-che-hat-yeu-4769502.html',\n",
       "              'image': {'identifier': 'https://i1-giaitri.vnecdn.net/2024/07/13/tang-phuc-12-1720847429-7878-1720848084.jpg?w=1200&h=0&q=100&dpr=1&fit=crop&s=Leq_TLM6sl-7novnltpFKw',\n",
       "               'width': 800,\n",
       "               'height': 354},\n",
       "              'title': \"Tăng Phúc: 'Tôi từng stress vì bị chê hát yếu'\",\n",
       "              'description': 'Tăng Phúc - giọng ca \"Chỉ là không cùng nhau\" - nói từng mất ngủ nhiều ngày khi bị chê giọng hát yếu, một màu.'},\n",
       "             'article': {'publisher': 'https://www.facebook.com/congdongvnexpress/',\n",
       "              'tag': 'Show \"Anh trai vượt ngàn chông gai\" 2024'},\n",
       "             'liston_category': '1002691,1002717,1002726',\n",
       "             'tt_site_id_detail': 1002691,\n",
       "             'medium': 'news',\n",
       "             'source': 'Tin nhanh VnExpress',\n",
       "             'pubdate': '2024-07-16T00:00:00+07:00',\n",
       "             'lastmod': '2024-07-16T00:00:00+07:00',\n",
       "             'copyright': 'VnExpress',\n",
       "             'author': 'VnExpress',\n",
       "             'robots': 'noarchive, max-image-preview:large, index',\n",
       "             'googlebot': 'noarchive',\n",
       "             'geo.placename': 'Ha Noi, Viet Nam',\n",
       "             'geo.region': 'VN-HN',\n",
       "             'geo.position': '21.030624;105.782431',\n",
       "             'ICBM': '21.030624, 105.782431',\n",
       "             'revisit-after': 'days',\n",
       "             'twitter': {'card': 'summary',\n",
       "              'url': 'https://vnexpress.net/tang-phuc-toi-tung-stress-vi-bi-che-hat-yeu-4769502.html',\n",
       "              'title': \"Tăng Phúc: 'Tôi từng stress vì bị chê hát yếu'\",\n",
       "              'description': 'Tăng Phúc - giọng ca \"Chỉ là không cùng nhau\" - nói từng mất ngủ nhiều ngày khi bị chê giọng hát yếu, một màu.',\n",
       "              'image': 'https://i1-giaitri.vnecdn.net/2024/07/13/tang-phuc-12-1720847429-7878-1720848084.jpg?w=1200&h=0&q=100&dpr=1&fit=crop&s=Leq_TLM6sl-7novnltpFKw',\n",
       "              'site': '@VnEnews',\n",
       "              'creator': '@VnEnews'},\n",
       "             'tt_page_ads': 1,\n",
       "             'tt_page_special': 0,\n",
       "             'its_url': 'https://vnexpress.net/tang-phuc-toi-tung-stress-vi-bi-che-hat-yeu-4769502.html',\n",
       "             'its_id': 4769502,\n",
       "             'its_title': \"Tăng Phúc: \\\\'Tôi từng stress vì bị chê hát yếu\\\\'\",\n",
       "             'its_section': 'giải trí',\n",
       "             'its_subsection': 'giải trí, giới sao, trong nước',\n",
       "             'its_tag': 'tăng phúc, anh trai vượt ngàn chông gai 2024',\n",
       "             'its_topic': 27593,\n",
       "             'its_embed': 2,\n",
       "             'its_author': 1420086075,\n",
       "             'its_type': 'text',\n",
       "             'its_wordcount': 1067,\n",
       "             'its_publication': 1721062800,\n",
       "             'article_updatetime': 1721062825,\n",
       "             'its_user_needs': 4,\n",
       "             'facebook-domain-verification': 'wvm97b5u7iqh99xtqcj81z0955s2ha'})"
      ]
     },
     "execution_count": 41,
     "metadata": {},
     "output_type": "execute_result"
    }
   ],
   "source": [
    "article_test.meta_data"
   ]
  },
  {
   "cell_type": "code",
   "execution_count": 42,
   "metadata": {},
   "outputs": [
    {
     "data": {
      "text/plain": [
       "['VnExpress', 'Giải trí', 'Giới sao', 'Trong nước']"
      ]
     },
     "execution_count": 42,
     "metadata": {},
     "output_type": "execute_result"
    }
   ],
   "source": [
    "cat = article_test.meta_data['tt_list_folder_name']\n",
    "cat = cat.split(',')\n",
    "cat"
   ]
  },
  {
   "cell_type": "code",
   "execution_count": 36,
   "metadata": {},
   "outputs": [],
   "source": [
    "for j in cat:\n",
    "    print(j)"
   ]
  },
  {
   "cell_type": "code",
   "execution_count": 44,
   "metadata": {},
   "outputs": [
    {
     "data": {
      "text/plain": [
       "'2024-07-16T00:00:00+07:00'"
      ]
     },
     "execution_count": 44,
     "metadata": {},
     "output_type": "execute_result"
    }
   ],
   "source": [
    "article_test.meta_data['lastmod']"
   ]
  },
  {
   "cell_type": "code",
   "execution_count": null,
   "metadata": {},
   "outputs": [],
   "source": []
  }
 ],
 "metadata": {
  "kernelspec": {
   "display_name": "Python 3",
   "language": "python",
   "name": "python3"
  },
  "language_info": {
   "codemirror_mode": {
    "name": "ipython",
    "version": 3
   },
   "file_extension": ".py",
   "mimetype": "text/x-python",
   "name": "python",
   "nbconvert_exporter": "python",
   "pygments_lexer": "ipython3",
   "version": "3.9.18"
  }
 },
 "nbformat": 4,
 "nbformat_minor": 2
}
