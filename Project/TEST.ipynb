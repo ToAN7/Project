{
 "cells": [
  {
   "cell_type": "code",
   "execution_count": 13,
   "metadata": {},
   "outputs": [],
   "source": [
    "import newspaper\n",
    "from newspaper import Article as Atc\n",
    "from newspaper import Source as Scr"
   ]
  },
  {
   "cell_type": "code",
   "execution_count": 14,
   "metadata": {},
   "outputs": [],
   "source": [
    "vnex_paper =  newspaper.build('https://thanhnien.vn', language = 'vi', memoize_articles = False, follow_meta_refresh = True, keep_article_html=True)"
   ]
  },
  {
   "cell_type": "code",
   "execution_count": 15,
   "metadata": {},
   "outputs": [
    {
     "data": {
      "text/plain": [
       "929"
      ]
     },
     "execution_count": 15,
     "metadata": {},
     "output_type": "execute_result"
    }
   ],
   "source": [
    "vnex_paper.size()"
   ]
  },
  {
   "cell_type": "code",
   "execution_count": 16,
   "metadata": {},
   "outputs": [],
   "source": [
    "article_test = Atc('https://thanhnien.vn/tong-bi-thu-nguyen-phu-trong-tu-tran-185240719161700756.htm', language = 'vi')"
   ]
  },
  {
   "cell_type": "code",
   "execution_count": 17,
   "metadata": {},
   "outputs": [],
   "source": [
    "article_test.download()\n",
    "article_test.parse()"
   ]
  },
  {
   "cell_type": "code",
   "execution_count": 18,
   "metadata": {},
   "outputs": [
    {
     "data": {
      "text/plain": [
       "'https://thanhnien.vn/tong-bi-thu-nguyen-phu-trong-tu-tran-185240719161700756.htm'"
      ]
     },
     "execution_count": 18,
     "metadata": {},
     "output_type": "execute_result"
    }
   ],
   "source": [
    "article_test.url"
   ]
  },
  {
   "cell_type": "code",
   "execution_count": 19,
   "metadata": {},
   "outputs": [
    {
     "data": {
      "text/plain": [
       "defaultdict(dict,\n",
       "            {'description': 'Tổng Bí thư Nguyễn Phú Trọng đã từ trần vào hồi 13 giờ 38 phút ngày 19.7.2024 tại Bệnh viện Trung ương Quân đội 108.',\n",
       "             'keywords': 'Tổng bí thư Nguyễn Phú Trọng, Tổng Bí thư từ trần',\n",
       "             'news_keywords': 'Tổng bí thư Nguyễn Phú Trọng, Tổng Bí thư từ trần',\n",
       "             'og': {'title': 'Tổng Bí thư Nguyễn Phú Trọng từ trần',\n",
       "              'description': 'Tổng Bí thư Nguyễn Phú Trọng đã từ trần vào hồi 13 giờ 38 phút ngày 19.7.2024 tại Bệnh viện Trung ương Quân đội 108.',\n",
       "              'type': 'website',\n",
       "              'url': 'https://thanhnien.vn/tong-bi-thu-nguyen-phu-trong-tu-tran-185240719161700756.htm',\n",
       "              'image': {'identifier': 'https://images2.thanhnien.vn/zoom/600_315/528068263637045248/2024/7/19/avatar1721387828894-1721387831368378983205-0-0-1080-1728-crop-1721387873199936709900.jpeg',\n",
       "               'type': 'image/jpg',\n",
       "               'width': 600,\n",
       "               'height': 315},\n",
       "              'site_name': 'thanhnien.vn'},\n",
       "             'twitter': {'image': 'https://images2.thanhnien.vn/zoom/600_315/528068263637045248/2024/7/19/avatar1721387828894-1721387831368378983205-0-0-1080-1728-crop-1721387873199936709900.jpeg',\n",
       "              'card': 'summary_large_image'},\n",
       "             'fb': {'app_id': 403237164337145},\n",
       "             'google-site-verification': 'B2Wh7psOVodXR-WIL9qwfUsyQGHltOV-jXJhMwNG-G4',\n",
       "             'robots': 'max-image-preview:large,noarchive,noodp,index,follow',\n",
       "             'Language': 'vi',\n",
       "             'distribution': 'Global',\n",
       "             'revisit-after': '1 days',\n",
       "             'GENERATOR': 'https://thanhnien.vn',\n",
       "             'RATING': 'GENERAL',\n",
       "             'site_path': 'https://thanhnien.vn',\n",
       "             'author': 'thanhnien.vn',\n",
       "             'copyright': 'Copyright (c) by 2003-2023, Báo Thanh Niên',\n",
       "             'dable': {'item_id': 185240719161700756, 'author': 'Hải Triều'},\n",
       "             'article': {'section': 'Thời sự',\n",
       "              'published_time': '2024-07-19T18:06:00'}})"
      ]
     },
     "execution_count": 19,
     "metadata": {},
     "output_type": "execute_result"
    }
   ],
   "source": [
    "article_test.meta_data"
   ]
  },
  {
   "cell_type": "code",
   "execution_count": 20,
   "metadata": {},
   "outputs": [],
   "source": [
    "#cat = article_test.meta_data['tt_list_folder_name']\n",
    "#cat = cat.split(',')\n",
    "#cat"
   ]
  },
  {
   "cell_type": "code",
   "execution_count": 21,
   "metadata": {},
   "outputs": [],
   "source": [
    "for j in cat:\n",
    "    print(j)"
   ]
  },
  {
   "cell_type": "code",
   "execution_count": 22,
   "metadata": {},
   "outputs": [
    {
     "data": {
      "text/plain": [
       "'2024-07-19T18:06:00'"
      ]
     },
     "execution_count": 22,
     "metadata": {},
     "output_type": "execute_result"
    }
   ],
   "source": [
    "article_test.meta_data['article']['published_time']"
   ]
  },
  {
   "cell_type": "code",
   "execution_count": null,
   "metadata": {},
   "outputs": [],
   "source": []
  }
 ],
 "metadata": {
  "kernelspec": {
   "display_name": "Python 3",
   "language": "python",
   "name": "python3"
  },
  "language_info": {
   "codemirror_mode": {
    "name": "ipython",
    "version": 3
   },
   "file_extension": ".py",
   "mimetype": "text/x-python",
   "name": "python",
   "nbconvert_exporter": "python",
   "pygments_lexer": "ipython3",
   "version": "3.9.18"
  }
 },
 "nbformat": 4,
 "nbformat_minor": 2
}
