{
 "cells": [
  {
   "cell_type": "code",
   "execution_count": 74,
   "metadata": {},
   "outputs": [],
   "source": [
    "import pandas as pd\n",
    "import numpy as np\n",
    "import re\n",
    "import string\n",
    "import csv\n",
    "from clean import clean as cl"
   ]
  },
  {
   "cell_type": "code",
   "execution_count": 75,
   "metadata": {},
   "outputs": [],
   "source": [
    "text = np.array(['Date', 'Content', 'Source'],np.string_)\n",
    "\n",
    "number_of_data = 0\n",
    "\n",
    "with open(\"count.txt\", 'r') as text:\n",
    "    number_of_data = int(text.read())\n",
    "    print(type(number_of_data))\n",
    "\n",
    "for x in range(number_of_data):\n",
    "    files = pd.read_csv(f\"./clean{x}.csv\", delimiter=\"|\").astype(str)\n",
    "    for y in range(len(files)):\n",
    "        if y != 0:\n",
    "            row = [files[\"Date\"][y],files[\"Content\"][y],files[\"Source\"][y]]\n",
    "            text = np.append(text, row, axis = 0)\n",
    "\n",
    "text = np.reshape(text, (text.size//3,3))"
   ]
  },
  {
   "cell_type": "code",
   "execution_count": 76,
   "metadata": {},
   "outputs": [],
   "source": [
    "with open(\"DT.csv\", 't+w') as csvFile:\n",
    "    csvWriter = csv.writer(csvFile, lineterminator = '\\n', delimiter='|', quoting= csv.QUOTE_ALL)\n",
    "    csvWriter = csvWriter.writerows(text)"
   ]
  }
 ],
 "metadata": {
  "kernelspec": {
   "display_name": "Python 3",
   "language": "python",
   "name": "python3"
  },
  "language_info": {
   "codemirror_mode": {
    "name": "ipython",
    "version": 3
   },
   "file_extension": ".py",
   "mimetype": "text/x-python",
   "name": "python",
   "nbconvert_exporter": "python",
   "pygments_lexer": "ipython3",
   "version": "3.9.18"
  }
 },
 "nbformat": 4,
 "nbformat_minor": 2
}
