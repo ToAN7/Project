{
 "cells": [
  {
   "cell_type": "code",
   "execution_count": 248,
   "metadata": {},
   "outputs": [],
   "source": [
    "import pandas as pd\n",
    "import numpy as np\n",
    "import re\n",
    "import string\n",
    "import csv"
   ]
  },
  {
   "cell_type": "code",
   "execution_count": 249,
   "metadata": {},
   "outputs": [],
   "source": [
    "raw_data = pd.read_csv(\"./t.csv\", delimiter=\"|\").astype(str)"
   ]
  },
  {
   "cell_type": "code",
   "execution_count": 250,
   "metadata": {},
   "outputs": [
    {
     "data": {
      "text/html": [
       "<div>\n",
       "<style scoped>\n",
       "    .dataframe tbody tr th:only-of-type {\n",
       "        vertical-align: middle;\n",
       "    }\n",
       "\n",
       "    .dataframe tbody tr th {\n",
       "        vertical-align: top;\n",
       "    }\n",
       "\n",
       "    .dataframe thead th {\n",
       "        text-align: right;\n",
       "    }\n",
       "</style>\n",
       "<table border=\"1\" class=\"dataframe\">\n",
       "  <thead>\n",
       "    <tr style=\"text-align: right;\">\n",
       "      <th></th>\n",
       "      <th>Date</th>\n",
       "      <th>Content</th>\n",
       "      <th>Source</th>\n",
       "    </tr>\n",
       "  </thead>\n",
       "  <tbody>\n",
       "    <tr>\n",
       "      <th>0</th>\n",
       "      <td>2024-07-27T00:01:09+07:00</td>\n",
       "      <td>Pháp Chiếc vạc giữ lửa có hình dáng giống khí ...</td>\n",
       "      <td>https://vnexpress.net/truc-tiep-le-khai-mac-ol...</td>\n",
       "    </tr>\n",
       "    <tr>\n",
       "      <th>1</th>\n",
       "      <td>2024-07-27T06:00:00+07:00</td>\n",
       "      <td>Sau nhiều năm chậm trễ vì thiếu vốn, vướng mặt...</td>\n",
       "      <td>https://vnexpress.net/loat-du-an-giup-xoa-cac-...</td>\n",
       "    </tr>\n",
       "    <tr>\n",
       "      <th>2</th>\n",
       "      <td>2024-07-27T05:00:00+07:00</td>\n",
       "      <td>Tuyên bố dừng tranh cử của ông Biden đã nổ phá...</td>\n",
       "      <td>https://vnexpress.net/cuoc-chien-harris-trump-...</td>\n",
       "    </tr>\n",
       "    <tr>\n",
       "      <th>3</th>\n",
       "      <td>2024-07-27T05:00:00+07:00</td>\n",
       "      <td>Ám ảnh 42 lính Việt Nam tử trận được chôn chun...</td>\n",
       "      <td>https://vnexpress.net/hai-thap-ky-tim-mo-liet-...</td>\n",
       "    </tr>\n",
       "    <tr>\n",
       "      <th>4</th>\n",
       "      <td>2024-07-27T00:00:00+07:00</td>\n",
       "      <td>Cha con phi công Dương Văn Thanh và Dương Văn ...</td>\n",
       "      <td>https://vnexpress.net/nhung-ky-vat-cua-cha-con...</td>\n",
       "    </tr>\n",
       "  </tbody>\n",
       "</table>\n",
       "</div>"
      ],
      "text/plain": [
       "                        Date  \\\n",
       "0  2024-07-27T00:01:09+07:00   \n",
       "1  2024-07-27T06:00:00+07:00   \n",
       "2  2024-07-27T05:00:00+07:00   \n",
       "3  2024-07-27T05:00:00+07:00   \n",
       "4  2024-07-27T00:00:00+07:00   \n",
       "\n",
       "                                             Content  \\\n",
       "0  Pháp Chiếc vạc giữ lửa có hình dáng giống khí ...   \n",
       "1  Sau nhiều năm chậm trễ vì thiếu vốn, vướng mặt...   \n",
       "2  Tuyên bố dừng tranh cử của ông Biden đã nổ phá...   \n",
       "3  Ám ảnh 42 lính Việt Nam tử trận được chôn chun...   \n",
       "4  Cha con phi công Dương Văn Thanh và Dương Văn ...   \n",
       "\n",
       "                                              Source  \n",
       "0  https://vnexpress.net/truc-tiep-le-khai-mac-ol...  \n",
       "1  https://vnexpress.net/loat-du-an-giup-xoa-cac-...  \n",
       "2  https://vnexpress.net/cuoc-chien-harris-trump-...  \n",
       "3  https://vnexpress.net/hai-thap-ky-tim-mo-liet-...  \n",
       "4  https://vnexpress.net/nhung-ky-vat-cua-cha-con...  "
      ]
     },
     "execution_count": 250,
     "metadata": {},
     "output_type": "execute_result"
    }
   ],
   "source": [
    "raw_data.head()"
   ]
  },
  {
   "cell_type": "code",
   "execution_count": 251,
   "metadata": {},
   "outputs": [
    {
     "data": {
      "text/html": [
       "<div>\n",
       "<style scoped>\n",
       "    .dataframe tbody tr th:only-of-type {\n",
       "        vertical-align: middle;\n",
       "    }\n",
       "\n",
       "    .dataframe tbody tr th {\n",
       "        vertical-align: top;\n",
       "    }\n",
       "\n",
       "    .dataframe thead th {\n",
       "        text-align: right;\n",
       "    }\n",
       "</style>\n",
       "<table border=\"1\" class=\"dataframe\">\n",
       "  <thead>\n",
       "    <tr style=\"text-align: right;\">\n",
       "      <th></th>\n",
       "      <th>Date</th>\n",
       "      <th>Content</th>\n",
       "      <th>Source</th>\n",
       "    </tr>\n",
       "  </thead>\n",
       "  <tbody>\n",
       "    <tr>\n",
       "      <th>103</th>\n",
       "      <td>2024-07-26T17:53:11+07:00</td>\n",
       "      <td>Hãng taxi Vinasun báo lãi quý II gần 17 tỷ đồn...</td>\n",
       "      <td>https://vnexpress.net/loi-nhuan-taxi-vinasun-t...</td>\n",
       "    </tr>\n",
       "    <tr>\n",
       "      <th>104</th>\n",
       "      <td>2024-07-27T00:00:00+07:00</td>\n",
       "      <td>Ngôi nhà có quy mô 3 tầng, diện tích xây dựng ...</td>\n",
       "      <td>https://vnexpress.net/nha-xay-cho-3-the-he-lie...</td>\n",
       "    </tr>\n",
       "    <tr>\n",
       "      <th>105</th>\n",
       "      <td>2024-07-26T21:09:55+07:00</td>\n",
       "      <td>Thượng tá Nguyễn Thị Liên và trung tá Nguyễn Đ...</td>\n",
       "      <td>https://vnexpress.net/hai-si-quan-quan-doi-nha...</td>\n",
       "    </tr>\n",
       "    <tr>\n",
       "      <th>106</th>\n",
       "      <td>2024-07-26T18:42:25+07:00</td>\n",
       "      <td>Ban Lễ tang Nhà nước và gia đình cảm ơn tình c...</td>\n",
       "      <td>https://vnexpress.net/ban-le-tang-nha-nuoc-va-...</td>\n",
       "    </tr>\n",
       "    <tr>\n",
       "      <th>107</th>\n",
       "      <td>2024-07-26T12:53:34+07:00</td>\n",
       "      <td>Lễ truy điệu Tổng Bí thư Nguyễn Phú Trọng tổ c...</td>\n",
       "      <td>https://vnexpress.net/truc-tiep-quoc-tang-tong...</td>\n",
       "    </tr>\n",
       "  </tbody>\n",
       "</table>\n",
       "</div>"
      ],
      "text/plain": [
       "                          Date  \\\n",
       "103  2024-07-26T17:53:11+07:00   \n",
       "104  2024-07-27T00:00:00+07:00   \n",
       "105  2024-07-26T21:09:55+07:00   \n",
       "106  2024-07-26T18:42:25+07:00   \n",
       "107  2024-07-26T12:53:34+07:00   \n",
       "\n",
       "                                               Content  \\\n",
       "103  Hãng taxi Vinasun báo lãi quý II gần 17 tỷ đồn...   \n",
       "104  Ngôi nhà có quy mô 3 tầng, diện tích xây dựng ...   \n",
       "105  Thượng tá Nguyễn Thị Liên và trung tá Nguyễn Đ...   \n",
       "106  Ban Lễ tang Nhà nước và gia đình cảm ơn tình c...   \n",
       "107  Lễ truy điệu Tổng Bí thư Nguyễn Phú Trọng tổ c...   \n",
       "\n",
       "                                                Source  \n",
       "103  https://vnexpress.net/loi-nhuan-taxi-vinasun-t...  \n",
       "104  https://vnexpress.net/nha-xay-cho-3-the-he-lie...  \n",
       "105  https://vnexpress.net/hai-si-quan-quan-doi-nha...  \n",
       "106  https://vnexpress.net/ban-le-tang-nha-nuoc-va-...  \n",
       "107  https://vnexpress.net/truc-tiep-quoc-tang-tong...  "
      ]
     },
     "execution_count": 251,
     "metadata": {},
     "output_type": "execute_result"
    }
   ],
   "source": [
    "raw_data.tail()"
   ]
  },
  {
   "cell_type": "code",
   "execution_count": 252,
   "metadata": {},
   "outputs": [],
   "source": [
    "def wordopt(text):\n",
    "    text = text.lower()\n",
    "    text = re.sub('\\[.*?\\]','',text)\n",
    "    text = re.sub(\"\\\\W\",\" \",text)\n",
    "    text = re.sub('https?://\\S+|www\\.\\S+','',text)\n",
    "    text = re.sub('<.*?>+',b'',text)\n",
    "    text = re.sub('[%s]' % re.escape(string.punctuation),'',text)\n",
    "    text = re.sub('\\w*\\d\\w*','',text)\n",
    "    text = re.sub(' +', ' ',text)\n",
    "    return text"
   ]
  },
  {
   "cell_type": "code",
   "execution_count": 253,
   "metadata": {},
   "outputs": [],
   "source": [
    "raw_data[\"Content\"] = raw_data[\"Content\"].apply(wordopt)"
   ]
  },
  {
   "cell_type": "code",
   "execution_count": 254,
   "metadata": {},
   "outputs": [],
   "source": [
    "text = np.array(['Date', 'Content', 'Source'],np.string_)\n",
    "err = list()\n",
    "counter = 0\n",
    "for x,i in enumerate(raw_data[\"Date\"]):\n",
    "    if i == str('{}'):\n",
    "        err.append(x)\n",
    "for y, j in enumerate(raw_data[\"Content\"]):\n",
    "    if y == err[counter]:\n",
    "        if counter != len(err)-1:\n",
    "            counter += 1\n",
    "    elif j != 'nan':\n",
    "        row = [raw_data[\"Date\"][y],raw_data[\"Content\"][y],raw_data[\"Source\"][y]]\n",
    "        text = np.append(text, row, axis = 0)\n",
    "text = np.reshape(text, (text.size//3,3))"
   ]
  },
  {
   "cell_type": "code",
   "execution_count": 255,
   "metadata": {},
   "outputs": [],
   "source": [
    "with open(\"clean.csv\", 't+w') as csvFile:\n",
    "    csvWriter = csv.writer(csvFile, delimiter='|', quoting= csv.QUOTE_ALL)\n",
    "    csvWriter = csvWriter.writerows(text)"
   ]
  }
 ],
 "metadata": {
  "kernelspec": {
   "display_name": "Python 3",
   "language": "python",
   "name": "python3"
  },
  "language_info": {
   "codemirror_mode": {
    "name": "ipython",
    "version": 3
   },
   "file_extension": ".py",
   "mimetype": "text/x-python",
   "name": "python",
   "nbconvert_exporter": "python",
   "pygments_lexer": "ipython3",
   "version": "3.9.18"
  }
 },
 "nbformat": 4,
 "nbformat_minor": 2
}
