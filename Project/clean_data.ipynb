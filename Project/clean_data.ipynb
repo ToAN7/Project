{
 "cells": [
  {
   "cell_type": "code",
   "execution_count": 96,
   "metadata": {},
   "outputs": [],
   "source": [
    "import pandas as pd\n",
    "import numpy as np\n",
    "import re\n",
    "import string\n",
    "import csv"
   ]
  },
  {
   "cell_type": "code",
   "execution_count": 97,
   "metadata": {},
   "outputs": [],
   "source": [
    "raw_data = pd.read_csv(\"./t2.csv\", delimiter=\"|\").astype(str)"
   ]
  },
  {
   "cell_type": "code",
   "execution_count": 98,
   "metadata": {},
   "outputs": [
    {
     "data": {
      "text/html": [
       "<div>\n",
       "<style scoped>\n",
       "    .dataframe tbody tr th:only-of-type {\n",
       "        vertical-align: middle;\n",
       "    }\n",
       "\n",
       "    .dataframe tbody tr th {\n",
       "        vertical-align: top;\n",
       "    }\n",
       "\n",
       "    .dataframe thead th {\n",
       "        text-align: right;\n",
       "    }\n",
       "</style>\n",
       "<table border=\"1\" class=\"dataframe\">\n",
       "  <thead>\n",
       "    <tr style=\"text-align: right;\">\n",
       "      <th></th>\n",
       "      <th>Date</th>\n",
       "      <th>Content</th>\n",
       "      <th>Source</th>\n",
       "    </tr>\n",
       "  </thead>\n",
       "  <tbody>\n",
       "    <tr>\n",
       "      <th>0</th>\n",
       "      <td>2024-07-27 20:54:00</td>\n",
       "      <td>“Đất nước ta chưa bao giờ có được cơ đồ, tiềm ...</td>\n",
       "      <td>https://doisongphapluat.com.vn/dat-nuoc-ta-chu...</td>\n",
       "    </tr>\n",
       "    <tr>\n",
       "      <th>1</th>\n",
       "      <td>2024-07-27 15:49:42</td>\n",
       "      <td>Liệt sĩ có tên bỗng thành…“vô danh”  Liệt sĩ N...</td>\n",
       "      <td>https://doisongphapluat.com.vn/liet-si-co-ten-...</td>\n",
       "    </tr>\n",
       "    <tr>\n",
       "      <th>2</th>\n",
       "      <td>2024-07-27 21:31:53</td>\n",
       "      <td>Thủ tướng tưởng niệm các Anh hùng liệt sĩ, thă...</td>\n",
       "      <td>https://doisongphapluat.com.vn/thu-tuong-tuong...</td>\n",
       "    </tr>\n",
       "    <tr>\n",
       "      <th>3</th>\n",
       "      <td>2024-07-27 19:02:54</td>\n",
       "      <td>Loạt trường đại học điều chỉnh chỉ tiêu tuyển ...</td>\n",
       "      <td>https://doisongphapluat.com.vn/loat-truong-dai...</td>\n",
       "    </tr>\n",
       "    <tr>\n",
       "      <th>4</th>\n",
       "      <td>2024-07-27 20:52:42</td>\n",
       "      <td>Bắn đạt mưa điểm 10, nữ xạ thủ Việt Nam làm nê...</td>\n",
       "      <td>https://doisongphapluat.com.vn/ban-dat-mua-die...</td>\n",
       "    </tr>\n",
       "  </tbody>\n",
       "</table>\n",
       "</div>"
      ],
      "text/plain": [
       "                  Date                                            Content  \\\n",
       "0  2024-07-27 20:54:00  “Đất nước ta chưa bao giờ có được cơ đồ, tiềm ...   \n",
       "1  2024-07-27 15:49:42  Liệt sĩ có tên bỗng thành…“vô danh”  Liệt sĩ N...   \n",
       "2  2024-07-27 21:31:53  Thủ tướng tưởng niệm các Anh hùng liệt sĩ, thă...   \n",
       "3  2024-07-27 19:02:54  Loạt trường đại học điều chỉnh chỉ tiêu tuyển ...   \n",
       "4  2024-07-27 20:52:42  Bắn đạt mưa điểm 10, nữ xạ thủ Việt Nam làm nê...   \n",
       "\n",
       "                                              Source  \n",
       "0  https://doisongphapluat.com.vn/dat-nuoc-ta-chu...  \n",
       "1  https://doisongphapluat.com.vn/liet-si-co-ten-...  \n",
       "2  https://doisongphapluat.com.vn/thu-tuong-tuong...  \n",
       "3  https://doisongphapluat.com.vn/loat-truong-dai...  \n",
       "4  https://doisongphapluat.com.vn/ban-dat-mua-die...  "
      ]
     },
     "execution_count": 98,
     "metadata": {},
     "output_type": "execute_result"
    }
   ],
   "source": [
    "raw_data.head()"
   ]
  },
  {
   "cell_type": "code",
   "execution_count": 99,
   "metadata": {},
   "outputs": [
    {
     "data": {
      "text/html": [
       "<div>\n",
       "<style scoped>\n",
       "    .dataframe tbody tr th:only-of-type {\n",
       "        vertical-align: middle;\n",
       "    }\n",
       "\n",
       "    .dataframe tbody tr th {\n",
       "        vertical-align: top;\n",
       "    }\n",
       "\n",
       "    .dataframe thead th {\n",
       "        text-align: right;\n",
       "    }\n",
       "</style>\n",
       "<table border=\"1\" class=\"dataframe\">\n",
       "  <thead>\n",
       "    <tr style=\"text-align: right;\">\n",
       "      <th></th>\n",
       "      <th>Date</th>\n",
       "      <th>Content</th>\n",
       "      <th>Source</th>\n",
       "    </tr>\n",
       "  </thead>\n",
       "  <tbody>\n",
       "    <tr>\n",
       "      <th>15</th>\n",
       "      <td>2024-07-27 14:00:50</td>\n",
       "      <td>Ổ nhóm \"siêu trộm\" dây cáp điện trên tuyến cao...</td>\n",
       "      <td>https://doisongphapluat.com.vn/o-nhom-sieu-tro...</td>\n",
       "    </tr>\n",
       "    <tr>\n",
       "      <th>16</th>\n",
       "      <td>2024-07-27 21:30:00</td>\n",
       "      <td>Vụ người phụ nữ bị chồng cũ đâm ở Vĩn...</td>\n",
       "      <td>https://doisongphapluat.com.vn/vu-nguoi-phu-nu...</td>\n",
       "    </tr>\n",
       "    <tr>\n",
       "      <th>17</th>\n",
       "      <td>2024-07-27 20:45:00</td>\n",
       "      <td>Va chạm với xe tải, vợ chồng cụ ông 84 t...</td>\n",
       "      <td>https://doisongphapluat.com.vn/va-cham-voi-xe-...</td>\n",
       "    </tr>\n",
       "    <tr>\n",
       "      <th>18</th>\n",
       "      <td>2024-07-27 20:35:18</td>\n",
       "      <td>Bắc Giang: Triệt phá đường dây cá độ bóng đá h...</td>\n",
       "      <td>https://doisongphapluat.com.vn/bac-giang-triet...</td>\n",
       "    </tr>\n",
       "    <tr>\n",
       "      <th>19</th>\n",
       "      <td>2024-07-27 20:30:00</td>\n",
       "      <td>Thiếu ngủ ảnh hưởng đến “cuộc yêu” như thế nào...</td>\n",
       "      <td>https://doisongphapluat.com.vn/thieu-ngu-anh-h...</td>\n",
       "    </tr>\n",
       "  </tbody>\n",
       "</table>\n",
       "</div>"
      ],
      "text/plain": [
       "                   Date                                            Content  \\\n",
       "15  2024-07-27 14:00:50  Ổ nhóm \"siêu trộm\" dây cáp điện trên tuyến cao...   \n",
       "16  2024-07-27 21:30:00  Vụ người phụ nữ bị chồng cũ đâm ở Vĩn...   \n",
       "17  2024-07-27 20:45:00  Va chạm với xe tải, vợ chồng cụ ông 84 t...   \n",
       "18  2024-07-27 20:35:18  Bắc Giang: Triệt phá đường dây cá độ bóng đá h...   \n",
       "19  2024-07-27 20:30:00  Thiếu ngủ ảnh hưởng đến “cuộc yêu” như thế nào...   \n",
       "\n",
       "                                               Source  \n",
       "15  https://doisongphapluat.com.vn/o-nhom-sieu-tro...  \n",
       "16  https://doisongphapluat.com.vn/vu-nguoi-phu-nu...  \n",
       "17  https://doisongphapluat.com.vn/va-cham-voi-xe-...  \n",
       "18  https://doisongphapluat.com.vn/bac-giang-triet...  \n",
       "19  https://doisongphapluat.com.vn/thieu-ngu-anh-h...  "
      ]
     },
     "execution_count": 99,
     "metadata": {},
     "output_type": "execute_result"
    }
   ],
   "source": [
    "raw_data.tail()"
   ]
  },
  {
   "cell_type": "code",
   "execution_count": 100,
   "metadata": {},
   "outputs": [],
   "source": [
    "def wordopt(text):\n",
    "    text = text.lower()\n",
    "    text = re.sub('\\[.*?\\]','',text)\n",
    "    text = re.sub(\"\\\\W\",\" \",text)\n",
    "    text = re.sub('https?://\\S+|www\\.\\S+','',text)\n",
    "    text = re.sub('<.*?>+',b'',text)\n",
    "    text = re.sub('[%s]' % re.escape(string.punctuation),'',text)\n",
    "    text = re.sub('\\w*\\d\\w*','',text)\n",
    "    text = re.sub(' +', ' ',text)\n",
    "    return text"
   ]
  },
  {
   "cell_type": "code",
   "execution_count": 101,
   "metadata": {},
   "outputs": [],
   "source": [
    "raw_data['Content'] = raw_data[\"Content\"].apply(wordopt)"
   ]
  },
  {
   "cell_type": "code",
   "execution_count": 102,
   "metadata": {},
   "outputs": [],
   "source": [
    "text = np.array(['Date', 'Content', 'Source'],np.string_)\n",
    "\n",
    "for x in range(len(raw_data)):\n",
    "    if raw_data['Content'][x] != 'nan' and raw_data['Date'][x] != '{}':\n",
    "        row = [raw_data[\"Date\"][x],raw_data[\"Content\"][x],raw_data[\"Source\"][x]]\n",
    "        text = np.append(text, row, axis = 0)\n",
    "\n",
    "text = np.reshape(text, (text.size//3,3))"
   ]
  },
  {
   "cell_type": "code",
   "execution_count": 103,
   "metadata": {},
   "outputs": [],
   "source": [
    "with open(\"clean2.csv\", 't+w') as csvFile:\n",
    "    csvWriter = csv.writer(csvFile, lineterminator = '\\n', delimiter='|', quoting= csv.QUOTE_ALL)\n",
    "    csvWriter = csvWriter.writerows(text)"
   ]
  }
 ],
 "metadata": {
  "kernelspec": {
   "display_name": "Python 3",
   "language": "python",
   "name": "python3"
  },
  "language_info": {
   "codemirror_mode": {
    "name": "ipython",
    "version": 3
   },
   "file_extension": ".py",
   "mimetype": "text/x-python",
   "name": "python",
   "nbconvert_exporter": "python",
   "pygments_lexer": "ipython3",
   "version": "3.9.18"
  }
 },
 "nbformat": 4,
 "nbformat_minor": 2
}
