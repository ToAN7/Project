{
 "cells": [
  {
   "cell_type": "code",
   "execution_count": 42,
   "metadata": {},
   "outputs": [],
   "source": [
    "import newspaper\n",
    "from newspaper import Article as Atc\n",
    "from newspaper import Source as Scr"
   ]
  },
  {
   "cell_type": "code",
   "execution_count": 43,
   "metadata": {},
   "outputs": [],
   "source": [
    "vnex_paper =  newspaper.build('https://vnexpress.net', language = 'vi', memoize_articles = False, follow_meta_refresh = True, keep_article_html=True)"
   ]
  },
  {
   "cell_type": "code",
   "execution_count": 44,
   "metadata": {},
   "outputs": [
    {
     "data": {
      "text/plain": [
       "1699"
      ]
     },
     "execution_count": 44,
     "metadata": {},
     "output_type": "execute_result"
    }
   ],
   "source": [
    "vnex_paper.size()"
   ]
  },
  {
   "cell_type": "code",
   "execution_count": 45,
   "metadata": {},
   "outputs": [],
   "source": [
    "article_test = Atc('https://vnexpress.net/thi-sinh-anh-trai-vuot-ngan-chong-gai-nho-wanbi-tuan-anh-4766996.html', language = 'vi')"
   ]
  },
  {
   "cell_type": "code",
   "execution_count": 46,
   "metadata": {},
   "outputs": [],
   "source": [
    "article_test.download()\n",
    "article_test.parse()"
   ]
  },
  {
   "cell_type": "code",
   "execution_count": 47,
   "metadata": {},
   "outputs": [
    {
     "data": {
      "text/plain": [
       "defaultdict(dict,\n",
       "            {'description': 'Nhiếp ảnh gia Thiên Minh hát &quot;Đôi mắt&quot; gắn với tên tuổi cố nghệ sĩ Wanbi Tuấn Anh ở tập 2 &quot;Anh trai vượt ngàn chông gai&quot;, tối 6/7. - VnExpress',\n",
       "             'keywords': 'Anh trai vượt ngàn chông gai, Wanbi Tuấn Anh, Tin nóng',\n",
       "             'news_keywords': 'Anh trai vượt ngàn chông gai, Wanbi Tuấn Anh, Tin nóng',\n",
       "             'viewport': 'width=device-width, initial-scale=1, minimum-scale=1, maximum-scale=5, user-scalable=1',\n",
       "             'fb': {'app_id': 1547540628876392},\n",
       "             'apple-mobile-web-app-capable': 'yes',\n",
       "             'apple-mobile-web-app-title': 'Vnexpress.net',\n",
       "             'tt_article_id': 4766996,\n",
       "             'tt_category_id': 1002726,\n",
       "             'tt_site_id': 1002691,\n",
       "             'tt_site_id_new': 1002691,\n",
       "             'tt_list_folder': '1000000,1002691,1002717,1002726',\n",
       "             'tt_list_folder_name': 'VnExpress,Giải trí,Giới sao,Trong nước',\n",
       "             'tt_page_type': 'article',\n",
       "             'tt_page_type_new': 3,\n",
       "             'og': {'site_name': 'vnexpress.net',\n",
       "              'rich_attachment': 'true',\n",
       "              'type': 'article',\n",
       "              'url': 'https://vnexpress.net/thi-sinh-anh-trai-vuot-ngan-chong-gai-tuong-nho-wanbi-tuan-anh-4766996.html',\n",
       "              'image': {'identifier': 'https://i1-giaitri.vnecdn.net/2024/07/07/trch203137enhancednr-172028781-8413-2397-1720291061.jpg?w=1200&h=0&q=100&dpr=1&fit=crop&s=_VPjHCTuakA18EB-o5rtGg',\n",
       "               'width': 800,\n",
       "               'height': 354},\n",
       "              'title': \"Thí sinh 'Anh trai vượt ngàn chông gai' tưởng nhớ Wanbi Tuấn Anh\",\n",
       "              'description': 'Nhiếp ảnh gia Thiên Minh hát \"Đôi mắt\" gắn với tên tuổi cố nghệ sĩ Wanbi Tuấn Anh ở tập 2 \"Anh trai vượt ngàn chông gai\", tối 6/7.'},\n",
       "             'article': {'publisher': 'https://www.facebook.com/congdongvnexpress/',\n",
       "              'tag': 'Show \"Anh trai vượt ngàn chông gai\" 2024,Tin nóng'},\n",
       "             'liston_category': '1002691,1002717,1002726',\n",
       "             'tt_site_id_detail': 1002691,\n",
       "             'medium': 'news',\n",
       "             'source': 'Tin nhanh VnExpress',\n",
       "             'pubdate': '2024-07-07T07:26:21+07:00',\n",
       "             'lastmod': '2024-07-07T07:26:21+07:00',\n",
       "             'copyright': 'VnExpress',\n",
       "             'author': 'VnExpress',\n",
       "             'robots': 'noarchive, max-image-preview:large, index',\n",
       "             'googlebot': 'noarchive',\n",
       "             'geo.placename': 'Ha Noi, Viet Nam',\n",
       "             'geo.region': 'VN-HN',\n",
       "             'geo.position': '21.030624;105.782431',\n",
       "             'ICBM': '21.030624, 105.782431',\n",
       "             'revisit-after': 'days',\n",
       "             'twitter': {'card': 'summary',\n",
       "              'url': 'https://vnexpress.net/thi-sinh-anh-trai-vuot-ngan-chong-gai-tuong-nho-wanbi-tuan-anh-4766996.html',\n",
       "              'title': \"Thí sinh 'Anh trai vượt ngàn chông gai' tưởng nhớ Wanbi Tuấn Anh\",\n",
       "              'description': 'Nhiếp ảnh gia Thiên Minh hát \"Đôi mắt\" gắn với tên tuổi cố nghệ sĩ Wanbi Tuấn Anh ở tập 2 \"Anh trai vượt ngàn chông gai\", tối 6/7.',\n",
       "              'image': 'https://i1-giaitri.vnecdn.net/2024/07/07/trch203137enhancednr-172028781-8413-2397-1720291061.jpg?w=1200&h=0&q=100&dpr=1&fit=crop&s=_VPjHCTuakA18EB-o5rtGg',\n",
       "              'site': '@VnEnews',\n",
       "              'creator': '@VnEnews'},\n",
       "             'tt_page_ads': 1,\n",
       "             'tt_page_special': 0,\n",
       "             'its_url': 'https://vnexpress.net/thi-sinh-anh-trai-vuot-ngan-chong-gai-tuong-nho-wanbi-tuan-anh-4766996.html',\n",
       "             'its_id': 4766996,\n",
       "             'its_title': \"Thí sinh \\\\'Anh trai vượt ngàn chông gai\\\\' tưởng nhớ Wanbi Tuấn Anh\",\n",
       "             'its_section': 'giải trí',\n",
       "             'its_subsection': 'giải trí, giới sao, trong nước',\n",
       "             'its_tag': 'anh trai vượt ngàn chông gai, wanbi tuấn anh',\n",
       "             'its_topic': 27593,\n",
       "             'its_embed': 5,\n",
       "             'its_author': 1420086075,\n",
       "             'its_type': 'text',\n",
       "             'its_wordcount': 1005,\n",
       "             'its_publication': 1720311981,\n",
       "             'article_updatetime': 1720316178,\n",
       "             'its_user_needs': 4,\n",
       "             'facebook-domain-verification': 'wvm97b5u7iqh99xtqcj81z0955s2ha'})"
      ]
     },
     "execution_count": 47,
     "metadata": {},
     "output_type": "execute_result"
    }
   ],
   "source": [
    "article_test.meta_data"
   ]
  },
  {
   "cell_type": "code",
   "execution_count": 48,
   "metadata": {},
   "outputs": [
    {
     "data": {
      "text/plain": [
       "'VnExpress,Giải trí,Giới sao,Trong nước'"
      ]
     },
     "execution_count": 48,
     "metadata": {},
     "output_type": "execute_result"
    }
   ],
   "source": [
    "article_test.meta_data['tt_list_folder_name']"
   ]
  }
 ],
 "metadata": {
  "kernelspec": {
   "display_name": "Python 3",
   "language": "python",
   "name": "python3"
  },
  "language_info": {
   "codemirror_mode": {
    "name": "ipython",
    "version": 3
   },
   "file_extension": ".py",
   "mimetype": "text/x-python",
   "name": "python",
   "nbconvert_exporter": "python",
   "pygments_lexer": "ipython3",
   "version": "3.9.18"
  }
 },
 "nbformat": 4,
 "nbformat_minor": 2
}
